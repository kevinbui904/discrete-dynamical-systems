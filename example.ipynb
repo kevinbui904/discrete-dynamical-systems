{
 "cells": [
  {
   "cell_type": "markdown",
   "metadata": {},
   "source": [
    "# Examples of compartmental models\n",
    "Using the nifty little functions we created in the file `utils.py`. \n",
    "\n",
    "This will look a lot like the Colab notebook we created."
   ]
  },
  {
   "cell_type": "code",
   "execution_count": null,
   "metadata": {},
   "outputs": [],
   "source": [
    "import utils\n",
    "\n",
    "import matplotlib.pyplot as plt"
   ]
  },
  {
   "cell_type": "code",
   "execution_count": null,
   "metadata": {},
   "outputs": [],
   "source": [
    "# Here's a simple example of how everything works\n",
    "\n",
    "# In a cell, you have a chunk of code (it should feel similar to a paragraph)\n",
    "y = 3\n",
    "y = y + 2\n",
    "\n",
    "# Call functions from our utils file\n",
    "utils.my_list_function(y) # the last line of a cell is automatically printed"
   ]
  },
  {
   "cell_type": "code",
   "execution_count": null,
   "metadata": {},
   "outputs": [],
   "source": [
    "# Test out the CompartmentalModel class\n",
    "\n",
    "# Define a function that's the one component of the model\n",
    "# Population increases by 1.94% every year\n",
    "def good_environment(state, timestep):\n",
    "    # timestep is a parameter for consistency with other \n",
    "    # functions that might depend on time (say, something cyclical)\n",
    "    return state * 0.0194\n",
    "\n",
    "crane_model_good = utils.CompartmentalModel(starting_value=100, compartments=[good_environment])\n",
    "\n",
    "# Run the model for 14 years\n",
    "crane_model_good.simulate(timesteps=14)\n",
    "\n",
    "# Check that it worked\n",
    "crane_model_good.get_states()"
   ]
  },
  {
   "cell_type": "code",
   "execution_count": null,
   "metadata": {},
   "outputs": [],
   "source": [
    "# cyclic function\n",
    "# time period is quarters\n",
    "\n",
    "def cyclic(state, timestep):\n",
    "    quarter = timestep % 4\n",
    "\n",
    "    if quarter == 0:\n",
    "        return state * 0.9\n",
    "\n"
   ]
  }
 ],
 "metadata": {
  "kernelspec": {
   "display_name": "math",
   "language": "python",
   "name": "python3"
  },
  "language_info": {
   "codemirror_mode": {
    "name": "ipython",
    "version": 3
   },
   "file_extension": ".py",
   "mimetype": "text/x-python",
   "name": "python",
   "nbconvert_exporter": "python",
   "pygments_lexer": "ipython3",
   "version": "3.11.5"
  },
  "orig_nbformat": 4
 },
 "nbformat": 4,
 "nbformat_minor": 2
}
