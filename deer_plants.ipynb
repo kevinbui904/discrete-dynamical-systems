{
 "cells": [
  {
   "cell_type": "markdown",
   "metadata": {},
   "source": [
    "# Examples of compartmental models\n",
    "Using the nifty little functions we created in the file `utils.py`. \n",
    "\n",
    "This will look a lot like the Colab notebook we created."
   ]
  },
  {
   "cell_type": "code",
   "execution_count": null,
   "metadata": {},
   "outputs": [],
   "source": [
    "import utils\n",
    "\n",
    "import matplotlib.pyplot as plt"
   ]
  },
  {
   "cell_type": "code",
   "execution_count": null,
   "metadata": {},
   "outputs": [],
   "source": [
    "# Test out the CompartmentalModel class\n",
    "# With two populations: deer and grass\n",
    "\n",
    "# Define the starting populations in a dictionary\n",
    "deer_grass_populations = {\"deer\": [100], \"grass\": [3000]}\n",
    "\n",
    "# Define some functions that are the components of the model\n",
    "def deer_eat_grass(state_dictionary, timestep):\n",
    "    # timestep is a parameter for consistency with other \n",
    "    # functions that might depend on time (say, something cyclical)\n",
    "    # This function takes the current state of the system and returns\n",
    "    # the change in the populations coming from deer eating grass\n",
    "    \n",
    "    # The deer eat 10% of the grass every year\n",
    "    # And grow by as much grass as they ate\n",
    "    new_deer = state_dictionary[\"grass\"] * 0.1\n",
    "    eaten_grass = -new_deer\n",
    "    return {\"deer\": new_deer, \"grass\": eaten_grass}\n",
    "\n",
    "def grass_grows(state_dictionary, timestep):\n",
    "    # The grass grows logistically with a carrying capacity of 3000 and a rate of 0.8\n",
    "    return {\"deer\": 0, \"grass\": 0.8 * state_dictionary[\"grass\"] * (1 - state_dictionary[\"grass\"]) / 3000}\n",
    "\n",
    "# Compartments are on a new line just for readability\n",
    "dumb_deer_grass_model = utils.CompartmentalModel(start_states=deer_grass_populations, \n",
    "                                                 compartments=[deer_eat_grass, grass_grows],\n",
    "                                                 time_units=\"years\")\n",
    "\n",
    "# Run the model for 14 years\n",
    "dumb_deer_grass_model.simulate(timesteps=14)\n",
    "\n",
    "# Check that it worked\n",
    "dumb_deer_grass_model.print_states()"
   ]
  },
  {
   "cell_type": "code",
   "execution_count": null,
   "metadata": {},
   "outputs": [],
   "source": [
    "# Plot\n",
    "\n",
    "# Grab each set of states\n",
    "all_states = dumb_deer_grass_model.get_states()\n",
    "deer_states = all_states[\"deer\"]\n",
    "grass_states = all_states[\"grass\"]\n",
    "\n",
    "# Get the timestamps\n",
    "timestamps = [i for i in range(len(deer_states))]\n",
    "\n",
    "# Plot the deer and grass populations over time\n",
    "# `scatter` plots points instead of a smooth line like `plot`\n",
    "plt.scatter(timestamps, deer_states, label=\"Deer\")\n",
    "plt.scatter(timestamps, grass_states, label=\"Grass\")\n",
    "\n",
    "# Add some labels\n",
    "plt.title(\"Simple Deer - Grass Model\")\n",
    "plt.xlabel(f\"Time ({dumb_deer_grass_model.get_time_units()})\")\n",
    "plt.ylabel(\"Population\")\n",
    "plt.legend()\n",
    "\n",
    "plt.show()\n",
    "plt.close()"
   ]
  }
 ],
 "metadata": {
  "kernelspec": {
   "display_name": "math",
   "language": "python",
   "name": "python3"
  },
  "language_info": {
   "codemirror_mode": {
    "name": "ipython",
    "version": 3
   },
   "file_extension": ".py",
   "mimetype": "text/x-python",
   "name": "python",
   "nbconvert_exporter": "python",
   "pygments_lexer": "ipython3",
   "version": "3.11.5"
  },
  "orig_nbformat": 4
 },
 "nbformat": 4,
 "nbformat_minor": 2
}
