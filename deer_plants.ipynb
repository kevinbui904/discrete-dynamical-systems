{
 "cells": [
  {
   "cell_type": "markdown",
   "metadata": {},
   "source": [
    "# Simple Deer - Grass model\n"
   ]
  },
  {
   "cell_type": "code",
   "execution_count": null,
   "metadata": {},
   "outputs": [],
   "source": [
    "import utils\n",
    "\n",
    "import matplotlib.pyplot as plt\n",
    "import math"
   ]
  },
  {
   "cell_type": "code",
   "execution_count": null,
   "metadata": {},
   "outputs": [],
   "source": [
    "# Test out the CompartmentalModel class\n",
    "# With two populations: deer and grass\n",
    "\n",
    "# Define the starting populations in a dictionary\n",
    "deer_grass_populations = {\"deer\": [100], \"grass\": [3000]}\n",
    "\n",
    "# Define some functions that are the components of the model\n",
    "\n",
    "def deer_grows(state_dictionary, timestep):\n",
    "    # Deer grows proportional to the amount of grass, grass carrying capacity is 3000\n",
    "    \n",
    "    new_deer = state_dictionary[\"deer\"] * 1.5 * (state_dictionary[\"grass\"]/3000)\n",
    "    return {\"deer\": new_deer, \"grass\": 0}\n",
    "\n",
    "def deer_dies(state_dictionary, timestep):\n",
    "    # Deer declines 1.1 of population every year\n",
    "\n",
    "    deer_change = -1.1 * state_dictionary[\"deer\"]\n",
    "    return {\"deer\": deer_change, \"grass\": 0}\n",
    "\n",
    "def grass_grows(state_dictionary, timestep):\n",
    "    # The grass grows logistically with a carrying capacity of 3000 and a rate of 0.8\n",
    "    return {\"deer\": 0, \"grass\": 0.8 * state_dictionary[\"grass\"] * (1 - state_dictionary[\"grass\"] / 3000)}\n",
    "\n",
    "def grass_dies(state_dictionary, timestep):\n",
    "    # The grass dies at a rate proportional to the number of deer\n",
    "    return {\"deer\": 0, \"grass\": -1.2 * state_dictionary[\"deer\"] * state_dictionary[\"grass\"] / 3000}\n",
    "\n",
    "# Compartments are on a new line just for readability\n",
    "deer_grass_model = utils.CompartmentalModel(start_states=deer_grass_populations, \n",
    "                                                 compartments=[deer_grows, grass_grows, deer_dies, grass_dies],\n",
    "                                                 time_units=\"years\")\n",
    "\n",
    "# Run the model for 14 years\n",
    "deer_grass_model.simulate(timesteps=90)\n",
    "\n",
    "# Check that it worked\n",
    "deer_grass_model.print_states()\n"
   ]
  },
  {
   "cell_type": "code",
   "execution_count": null,
   "metadata": {},
   "outputs": [],
   "source": [
    "# Plot\n",
    "\n",
    "# Grab each set of states\n",
    "from turtle import color\n",
    "\n",
    "\n",
    "all_states = deer_grass_model.get_states()\n",
    "deer_states = all_states[\"deer\"]\n",
    "grass_states = all_states[\"grass\"]\n",
    "\n",
    "# Get the timestamps\n",
    "timestamps = [i for i in range(len(deer_states))]\n",
    "\n",
    "# Plot the deer and grass populations over time\n",
    "# `scatter` plots points instead of a smooth line like `plot`\n",
    "plt.scatter(timestamps, deer_states, label=\"Deer (start: 100)\", color=\"tab:orange\")\n",
    "plt.scatter(timestamps, grass_states, label=\"Grass (start: 3000)\", color=\"tab:green\")\n",
    "\n",
    "# Add some labels\n",
    "plt.title(\"Simple Deer - Grass Model\")\n",
    "plt.xlabel(f\"Time ({deer_grass_model.get_time_units()})\")\n",
    "plt.ylim(bottom=0)\n",
    "plt.ylabel(\"Population (Deer: individuals, Grass: density units)\")\n",
    "plt.legend()\n",
    "# uncomment the following line to control the figure size in inches (standard is 6.4, 4.8)\n",
    "# plt.rcParams[\"figure.figsize\"] = (6.4, 4.8)\n",
    "\n",
    "plt.show()\n",
    "plt.close()"
   ]
  },
  {
   "cell_type": "code",
   "execution_count": null,
   "metadata": {},
   "outputs": [],
   "source": [
    "# Code to check when the deer population drops below 1\n",
    "# Only works if this actually happens\n",
    "\n",
    "# deer_under_1 = []\n",
    "# for i, deer in enumerate(deer_states):\n",
    "#     if deer < 1:\n",
    "#         deer_under_1.append(i)\n",
    "\n",
    "# len(deer_under_1), min(deer_under_1), max(deer_under_1)"
   ]
  },
  {
   "cell_type": "code",
   "execution_count": null,
   "metadata": {},
   "outputs": [],
   "source": [
    "# Compare the linear term with Caughley's correction\n",
    "\n",
    "# points for plotting\n",
    "x = [i for i in range(5000)]\n",
    "\n",
    "# linear term\n",
    "y = [i / 3000 for i in x]\n",
    "# Caughley's correction\n",
    "z = [1 - math.exp(-0.001 *i) for i in x]\n",
    "\n",
    "plt.plot(x, y, label=\"Linear\")\n",
    "plt.plot(x, z, label=\"Caughley\", color=\"tab:red\")\n",
    "plt.vlines(3000, 0, 1.75, label=\"Carrying capacity\", linestyle=\"dashed\", color=\"tab:gray\")\n",
    "\n",
    "plt.legend()\n",
    "plt.title(\"Linear vs Caughley grass-deer interaction\")\n",
    "plt.xlabel(\"Grass density\")\n",
    "plt.ylabel(\"Proportional change from eating\")"
   ]
  }
 ],
 "metadata": {
  "kernelspec": {
   "display_name": "math",
   "language": "python",
   "name": "python3"
  },
  "language_info": {
   "codemirror_mode": {
    "name": "ipython",
    "version": 3
   },
   "file_extension": ".py",
   "mimetype": "text/x-python",
   "name": "python",
   "nbconvert_exporter": "python",
   "pygments_lexer": "ipython3",
   "version": "3.11.5"
  },
  "orig_nbformat": 4
 },
 "nbformat": 4,
 "nbformat_minor": 2
}
