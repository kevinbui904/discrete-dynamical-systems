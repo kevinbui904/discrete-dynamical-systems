{
 "cells": [
  {
   "cell_type": "markdown",
   "metadata": {},
   "source": [
    "# Examples of compartmental models\n",
    "Using the nifty little functions we created in the file `utils.py`. \n",
    "\n",
    "This will look a lot like the Colab notebook we created."
   ]
  },
  {
   "cell_type": "code",
   "execution_count": null,
   "metadata": {},
   "outputs": [],
   "source": [
    "import utils\n",
    "\n",
    "import matplotlib.pyplot as plt"
   ]
  },
  {
   "cell_type": "code",
   "execution_count": null,
   "metadata": {},
   "outputs": [],
   "source": [
    "# Test out the CompartmentalModel class\n",
    "# With two populations: deer and grass, discrete time step is for days, running over a period of 30 years\n",
    "\n",
    "# Define the starting populations in a dictionary\n",
    "deer_grass_populations = {\"deer\": [100], \"grass\": [3000]}\n",
    "\n",
    "# Define some functions that are the components of the model\n",
    "\n",
    "def deer_grows(state_dictionary, timestep):\n",
    "    # Deer grows proportional to the amount of grass, grass carrying capacity is 3000\n",
    "    \n",
    "    new_deer = state_dictionary[\"deer\"] * 1.5 * (state_dictionary[\"grass\"]/3000)\n",
    "    return {\"deer\": new_deer / 365, \"grass\": 0}\n",
    "\n",
    "def deer_dies(state_dictionary, timestep):\n",
    "    # Deer declines 1.1 of population every year\n",
    "\n",
    "    deer_change = -1.1 * state_dictionary[\"deer\"]\n",
    "    return {\"deer\": deer_change / 365, \"grass\": 0}\n",
    "\n",
    "def grass_grows(state_dictionary, timestep):\n",
    "    # The grass grows logistically with a carrying capacity of 3000 and a rate of 0.8\n",
    "    return {\"deer\": 0, \"grass\": 0.8 * state_dictionary[\"grass\"] * (1 - state_dictionary[\"grass\"] / 3000) / 365}\n",
    "\n",
    "def grass_dies(state_dictionary, timestep):\n",
    "    # The grass dies at a rate proportional to the number of deer\n",
    "    return {\"deer\": 0, \"grass\": -1.2 * state_dictionary[\"deer\"] * state_dictionary[\"grass\"] / 3000 / 365}\n",
    "\n",
    "# Compartments are on a new line just for readability\n",
    "deer_grass_model = utils.CompartmentalModel(start_states=deer_grass_populations, \n",
    "                                                 compartments=[deer_grows, grass_grows, deer_dies, grass_dies],\n",
    "                                                 time_units=\"days\")\n",
    "\n",
    "# Run the model for 14 years\n",
    "deer_grass_model.simulate(timesteps=30*365)\n",
    "\n",
    "# Check that it worked\n",
    "deer_grass_model.print_states()\n"
   ]
  },
  {
   "cell_type": "code",
   "execution_count": null,
   "metadata": {},
   "outputs": [],
   "source": [
    "# Plot\n",
    "\n",
    "# Grab each set of states\n",
    "from turtle import color\n",
    "\n",
    "\n",
    "all_states = deer_grass_model.get_states()\n",
    "deer_states = all_states[\"deer\"]\n",
    "grass_states = all_states[\"grass\"]\n",
    "\n",
    "print(min(deer_states))\n",
    "\n",
    "# Get the timestamps\n",
    "timestamps = [i for i in range(len(deer_states))]\n",
    "\n",
    "# Plot the deer and grass populations over time\n",
    "# `scatter` plots points instead of a smooth line like `plot`\n",
    "plt.scatter(timestamps, deer_states, label=\"Deer\", color=\"tab:orange\")\n",
    "plt.scatter(timestamps, grass_states, label=\"Grass\", color=\"tab:green\")\n",
    "\n",
    "# Add some labels\n",
    "plt.title(\"Simple Deer - Grass Model\")\n",
    "plt.xlabel(f\"Time ({deer_grass_model.get_time_units()})\")\n",
    "plt.ylabel(\"Population\")\n",
    "plt.legend()\n",
    "\n",
    "plt.show()\n",
    "plt.close()"
   ]
  }
 ],
 "metadata": {
  "kernelspec": {
   "display_name": "math",
   "language": "python",
   "name": "python3"
  },
  "language_info": {
   "codemirror_mode": {
    "name": "ipython",
    "version": 3
   },
   "file_extension": ".py",
   "mimetype": "text/x-python",
   "name": "python",
   "nbconvert_exporter": "python",
   "pygments_lexer": "ipython3",
   "version": "3.11.5"
  },
  "orig_nbformat": 4
 },
 "nbformat": 4,
 "nbformat_minor": 2
}
